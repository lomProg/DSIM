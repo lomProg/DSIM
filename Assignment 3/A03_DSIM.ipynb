{
  "nbformat": 4,
  "nbformat_minor": 0,
  "metadata": {
    "colab": {
      "name": "A03_DSIM.ipynb",
      "provenance": [],
      "collapsed_sections": []
    },
    "kernelspec": {
      "name": "python3",
      "display_name": "Python 3"
    },
    "language_info": {
      "name": "python"
    }
  },
  "cells": [
    {
      "cell_type": "markdown",
      "source": [
        "# Assignment 3: **Image classification Neural Network**\n",
        "---"
      ],
      "metadata": {
        "id": "Y_kvHCZNIbjm"
      }
    },
    {
      "cell_type": "markdown",
      "source": [
        "## Introduction"
      ],
      "metadata": {
        "id": "DqNSb9Ouqa-e"
      }
    },
    {
      "cell_type": "markdown",
      "source": [
        "This notebook contains my solution for the fourth assignment in which it is required to model two neural networks for the classification of images and train them on the two datasets *MNIST* and *CIFAR*."
      ],
      "metadata": {
        "id": "14d8ig4SrG-P"
      }
    },
    {
      "cell_type": "markdown",
      "source": [
        "To carry out the exercise I used the following packages and libraries."
      ],
      "metadata": {
        "id": "omR8oIUOrMhd"
      }
    },
    {
      "cell_type": "code",
      "source": [
        "import numpy as np\n",
        "import matplotlib.pyplot as plt\n",
        "\n",
        "# Machine Learning Tools\n",
        "import tensorflow as tf\n",
        "from tensorflow import keras\n",
        "from tensorflow.keras import layers\n",
        "from tensorflow.keras.optimizers import SGD, Adam"
      ],
      "metadata": {
        "id": "E4vlQqpvZTD7"
      },
      "execution_count": null,
      "outputs": []
    },
    {
      "cell_type": "markdown",
      "source": [
        "To view the progress of the network training about *loss* and *accuracy*, I have defined the following function. "
      ],
      "metadata": {
        "id": "PVYe01j-smHu"
      }
    },
    {
      "cell_type": "code",
      "source": [
        "# Function for Model Training Visualization\n",
        "def plot_history(network_history, n_epochs):\n",
        "  x_plot = list(range(1,n_epochs+1))\n",
        "  plt.figure()\n",
        "  plt.xlabel('Epochs')\n",
        "  plt.ylabel('Loss')\n",
        "  plt.plot(x_plot, network_history.history['loss'])\n",
        "  plt.plot(x_plot, network_history.history['val_loss'])\n",
        "  plt.legend(['Training', 'Validation'])\n",
        "\n",
        "  plt.figure()\n",
        "  plt.xlabel('Epochs')\n",
        "  plt.ylabel('Accuracy')\n",
        "  plt.plot(x_plot, network_history.history['accuracy'])\n",
        "  plt.plot(x_plot, network_history.history['val_accuracy'])\n",
        "  plt.legend(['Training', 'Validation'], loc='lower right')\n",
        "  plt.show()"
      ],
      "metadata": {
        "id": "EGVFtskUanHR"
      },
      "execution_count": null,
      "outputs": []
    },
    {
      "cell_type": "markdown",
      "metadata": {
        "id": "vJXzhRdy3Zhl"
      },
      "source": [
        "## Data"
      ]
    },
    {
      "cell_type": "markdown",
      "source": [
        "As required by the instructions, to carry out the assignment I used the two datasets *MNIST* and *CIFAR*, which consist respectively of:\n",
        "* $28\\times 28$ B/W images of hand-written digits (from $0$ to $9$: $10$ different classes);\n",
        "* $32\\times 32$ colored images belonging to $10$ different categories."
      ],
      "metadata": {
        "id": "cNaBQ9Cjr79L"
      }
    },
    {
      "cell_type": "code",
      "metadata": {
        "id": "IGtMEj6Bbz2d",
        "colab": {
          "base_uri": "https://localhost:8080/"
        },
        "outputId": "06f92e8c-8beb-48d7-beda-e79ebe48ea36"
      },
      "source": [
        "# Definition Target Classes and Input Data Shape\n",
        "num_classes = 10\n",
        "MNISTinput_shape = (28,28,1)\n",
        "CIFARinput_shape = (32,32,3)\n",
        "\n",
        "# Import MNIST from Keras\n",
        "(MNISTx_train, MNISTy_train), \\\n",
        "(MNISTx_test, MNISTy_test) = keras.datasets.mnist.load_data()\n",
        "\n",
        "# Import CIFAR from Keras\n",
        "(CIFARx_train, CIFARy_train), \\\n",
        "(CIFARx_test, CIFARy_test) = keras.datasets.cifar10.load_data()"
      ],
      "execution_count": null,
      "outputs": [
        {
          "output_type": "stream",
          "name": "stdout",
          "text": [
            "Downloading data from https://storage.googleapis.com/tensorflow/tf-keras-datasets/mnist.npz\n",
            "11493376/11490434 [==============================] - 0s 0us/step\n",
            "11501568/11490434 [==============================] - 0s 0us/step\n",
            "Downloading data from https://www.cs.toronto.edu/~kriz/cifar-10-python.tar.gz\n",
            "170500096/170498071 [==============================] - 6s 0us/step\n",
            "170508288/170498071 [==============================] - 6s 0us/step\n"
          ]
        }
      ]
    },
    {
      "cell_type": "markdown",
      "source": [
        "First of all I defined the function `preProcessing(x_train, x_test, y_train, y_test, name)` which applies transformations to the input data to adapt them to the task of the exercise. The `name` parameter was used as placeholder to distinguish between the two different datasets, which require different transformations.\n",
        "\n",
        "Then this function makes changes to the datasets by applying type conversions. In particular, it converts the data to float normalizing them according to the maximum value $255$.\n",
        "\n",
        "Next, for the *MNIST* dataset only, it reshapes the train and test images by adding a dimension. Finally, for both datasets, the function applies a conversion on the *y*s (train and test) passing from categorical to binary vectors. "
      ],
      "metadata": {
        "id": "6tYK0QAoytKC"
      }
    },
    {
      "cell_type": "code",
      "metadata": {
        "id": "0BdL3cuHaa72"
      },
      "source": [
        "def preProcessing(x_train, x_test, y_train, y_test, n_cls, name):\n",
        "\n",
        "  print('Original Data...')\n",
        "  print('X train shape:', x_train.shape)\n",
        "  print('X test shape:', x_test.shape)\n",
        "  print('Y train shape:', y_train.shape)\n",
        "  print('Y test shape:', y_test.shape)\n",
        "\n",
        "  # Scaling Images [0,255] to [0,1]\n",
        "  x_train = x_train.astype('float32')/255\n",
        "  x_test = x_test.astype('float32')/255\n",
        "\n",
        "  if name == 'MNIST':\n",
        "    # Images Reshape to 28x28x1\n",
        "    x_train = np.expand_dims(x_train, -1)\n",
        "    x_test = np.expand_dims(x_test, -1)\n",
        "\n",
        "  # Conversion of Categorical Target Vectors to Binary Matrices\n",
        "  # by One-Hot Encoding \n",
        "  y_train = keras.utils.to_categorical(y_train, n_cls)\n",
        "  y_test = keras.utils.to_categorical(y_test, n_cls)\n",
        "\n",
        "  print('...')\n",
        "  print('...')\n",
        "  print('Preprocessed Data...')\n",
        "  if name == 'CIFAR':\n",
        "    print('The Xs data already have the color dimension.')\n",
        "  print('X train shape:', x_train.shape)\n",
        "  print('X test shape:', x_test.shape)\n",
        "  print('Y train shape:', y_train.shape)\n",
        "  print('Y test shape:', y_test.shape)\n",
        "\n",
        "  return x_train, x_test, y_train, y_test"
      ],
      "execution_count": null,
      "outputs": []
    },
    {
      "cell_type": "code",
      "source": [
        "MNISTx_train, MNISTx_test, \\\n",
        "MNISTy_train, MNISTy_test = preProcessing(MNISTx_train, MNISTx_test,\n",
        "                                          MNISTy_train, MNISTy_test,\n",
        "                                          num_classes, 'MNIST')"
      ],
      "metadata": {
        "id": "cfcKZBXHZgUi",
        "colab": {
          "base_uri": "https://localhost:8080/"
        },
        "outputId": "31664e64-07c3-4665-b2a8-08d764ba1240"
      },
      "execution_count": null,
      "outputs": [
        {
          "output_type": "stream",
          "name": "stdout",
          "text": [
            "Original Data...\n",
            "X train shape: (60000, 28, 28)\n",
            "X test shape: (10000, 28, 28)\n",
            "Y train shape: (60000,)\n",
            "Y test shape: (10000,)\n",
            "...\n",
            "...\n",
            "Preprocessed Data...\n",
            "X train shape: (60000, 28, 28, 1)\n",
            "X test shape: (10000, 28, 28, 1)\n",
            "Y train shape: (60000, 10)\n",
            "Y test shape: (10000, 10)\n"
          ]
        }
      ]
    },
    {
      "cell_type": "code",
      "source": [
        "CIFARx_train, CIFARx_test, \\\n",
        "CIFARy_train, CIFARy_test = preProcessing(CIFARx_train, CIFARx_test,\n",
        "                                          CIFARy_train, CIFARy_test,\n",
        "                                          num_classes, 'CIFAR')"
      ],
      "metadata": {
        "id": "ZDOs9c_EZ0O4",
        "colab": {
          "base_uri": "https://localhost:8080/"
        },
        "outputId": "4ebae07f-8fd0-4e48-e41e-a340a645c096"
      },
      "execution_count": null,
      "outputs": [
        {
          "output_type": "stream",
          "name": "stdout",
          "text": [
            "Original Data...\n",
            "X train shape: (50000, 32, 32, 3)\n",
            "X test shape: (10000, 32, 32, 3)\n",
            "Y train shape: (50000, 1)\n",
            "Y test shape: (10000, 1)\n",
            "...\n",
            "...\n",
            "Preprocessed Data...\n",
            "The Xs data already have the color dimension.\n",
            "X train shape: (50000, 32, 32, 3)\n",
            "X test shape: (10000, 32, 32, 3)\n",
            "Y train shape: (50000, 10)\n",
            "Y test shape: (10000, 10)\n"
          ]
        }
      ]
    },
    {
      "cell_type": "markdown",
      "source": [
        "## Convolutional Neural Network **CNN**"
      ],
      "metadata": {
        "id": "5lYZb5ihazQO"
      }
    },
    {
      "cell_type": "markdown",
      "source": [
        "### Function definitions for CNN modeling, training and evaluation "
      ],
      "metadata": {
        "id": "MHB91BQTvWAe"
      }
    },
    {
      "cell_type": "markdown",
      "source": [
        "To the create, train and evaluate the two models I have defined the following functions."
      ],
      "metadata": {
        "id": "8vRiXfY55K30"
      }
    },
    {
      "cell_type": "code",
      "metadata": {
        "id": "038JKiqcepcJ"
      },
      "source": [
        "def createCNN(input_shape, n_cls):\n",
        "  \n",
        "  tf.keras.backend.clear_session()\n",
        "  tf.keras.backend.reset_uids()\n",
        "\n",
        "  # Model Definition\n",
        "  model = keras.Sequential(\n",
        "      [\n",
        "      keras.Input(shape = input_shape),\n",
        "      layers.Conv2D(32, kernel_size = (3,3)),\n",
        "      layers.Activation('relu'),\n",
        "      layers.MaxPooling2D(pool_size = (2,2)),\n",
        "\n",
        "      layers.Flatten(),\n",
        "      layers.Dense(128),\n",
        "      layers.Activation('relu'),\n",
        "\n",
        "      layers.Dense(n_cls, activation = 'softmax')\n",
        "      ]\n",
        "  )\n",
        "  model.summary()\n",
        "\n",
        "  return model"
      ],
      "execution_count": null,
      "outputs": []
    },
    {
      "cell_type": "markdown",
      "source": [
        "The function `createCNN(input_shape, n_cls)` define the neural network presented in the delivery:\n",
        "* explicit input layer of dimension `input_shape`\n",
        "* bi-dimensional convolutional layer with $32$  $3\\times 3$ filters\n",
        "* relu\n",
        "* maxpooling layer\n",
        "* flattering\n",
        "* fully connected layer with $128$ neurons\n",
        "* relu\n",
        "* fully connected layer that maps to the dimension of the problem, i.e. equals to `n_cls`."
      ],
      "metadata": {
        "id": "5B9EDHJW5aZE"
      }
    },
    {
      "cell_type": "code",
      "source": [
        "def trainCNN(model, x_train, y_train, n_eps = 500, b_size = 128):\n",
        "  \n",
        "  # Model Compilation\n",
        "  model.compile(loss = 'categorical_crossentropy',\n",
        "                optimizer = 'adam',\n",
        "                metrics = ['accuracy'])\n",
        "  # Model Training\n",
        "  network_history = model.fit(x_train, y_train, batch_size = b_size,\n",
        "                               epochs = n_eps, validation_split = 0.1,\n",
        "                               verbose=0)\n",
        "  \n",
        "  # Visualization of Training of Model\n",
        "  plot_history(network_history, n_eps)"
      ],
      "metadata": {
        "id": "w4pcYZfJcUJk"
      },
      "execution_count": null,
      "outputs": []
    },
    {
      "cell_type": "markdown",
      "source": [
        "The second function defined, `trainCNN(model, x_train, y_train, n_eps = 500, b_size = 128)`, trains the model `model` on the train datasets for a number of epochs `n_eps`, dividing the data into batches of size `b_size`.\n",
        "\n",
        "For this task I decided to use the `Adam` optimizer, an optimization algorithm with adaptive learning rate; to evaluate the training I used $10\\%$ of train instances (`validation_split=0.1`).\n",
        "\n",
        "Finally, the function shows the graph of the progress of training over the ages."
      ],
      "metadata": {
        "id": "1zFeADum9Pus"
      }
    },
    {
      "cell_type": "code",
      "source": [
        "def testCNN(model, x_test, y_test):\n",
        "  # Evaluation on Test Set\n",
        "  score = model.evaluate(x_test, y_test, verbose = 0)\n",
        "  print('test loss:', score[0])\n",
        "  print('test accuracy:', score[1])"
      ],
      "metadata": {
        "id": "6Clw3oQDfhRv"
      },
      "execution_count": null,
      "outputs": []
    },
    {
      "cell_type": "markdown",
      "source": [
        "Finally I defined a last function `testCNN(model, x_test, y_test)` which evaluates the model `model` based on the test data (`x_test`, `y_test`)."
      ],
      "metadata": {
        "id": "TDaoCcozBMkn"
      }
    },
    {
      "cell_type": "markdown",
      "source": [
        "### MNIST Network"
      ],
      "metadata": {
        "id": "0wgVUJevvh7U"
      }
    },
    {
      "cell_type": "markdown",
      "source": [
        "The first network was modeled for the *MNIST* dataset and, using the `createCNN` function, the following configuration is obtained."
      ],
      "metadata": {
        "id": "PAAuoBtPCFtY"
      }
    },
    {
      "cell_type": "code",
      "source": [
        "MNIST_CNN = createCNN(MNISTinput_shape, num_classes)"
      ],
      "metadata": {
        "id": "DYmVtIm4dRcP",
        "colab": {
          "base_uri": "https://localhost:8080/"
        },
        "outputId": "3c0d7261-8177-406e-9106-9f124356f573"
      },
      "execution_count": null,
      "outputs": [
        {
          "output_type": "stream",
          "name": "stdout",
          "text": [
            "Model: \"sequential\"\n",
            "_________________________________________________________________\n",
            " Layer (type)                Output Shape              Param #   \n",
            "=================================================================\n",
            " conv2d (Conv2D)             (None, 26, 26, 32)        320       \n",
            "                                                                 \n",
            " activation (Activation)     (None, 26, 26, 32)        0         \n",
            "                                                                 \n",
            " max_pooling2d (MaxPooling2D  (None, 13, 13, 32)       0         \n",
            " )                                                               \n",
            "                                                                 \n",
            " flatten (Flatten)           (None, 5408)              0         \n",
            "                                                                 \n",
            " dense (Dense)               (None, 128)               692352    \n",
            "                                                                 \n",
            " activation_1 (Activation)   (None, 128)               0         \n",
            "                                                                 \n",
            " dense_1 (Dense)             (None, 10)                1290      \n",
            "                                                                 \n",
            "=================================================================\n",
            "Total params: 693,962\n",
            "Trainable params: 693,962\n",
            "Non-trainable params: 0\n",
            "_________________________________________________________________\n"
          ]
        }
      ]
    },
    {
      "cell_type": "code",
      "source": [
        "trainCNN(MNIST_CNN, MNISTx_train, MNISTy_train, 100, 32)"
      ],
      "metadata": {
        "id": "7OgU8p4OcWj4",
        "colab": {
          "base_uri": "https://localhost:8080/",
          "height": 541
        },
        "outputId": "e81562dc-fa19-4ab7-d994-1fb4b64563ee"
      },
      "execution_count": null,
      "outputs": [
        {
          "output_type": "display_data",
          "data": {
            "image/png": "[encoded data removed]",
            "text/plain": [
              "<Figure size 432x288 with 1 Axes>"
            ]
          },
          "metadata": {
            "needs_background": "light"
          }
        },
        {
          "output_type": "display_data",
          "data": {
            "image/png": "[encoded data removed]",
            "text/plain": [
              "<Figure size 432x288 with 1 Axes>"
            ]
          },
          "metadata": {
            "needs_background": "light"
          }
        }
      ]
    },
    {
      "cell_type": "markdown",
      "source": [
        "Observing the graphs on the training of the `MNIST_CNN` network it is possible to notice the overfitting of the network; in fact the validation accuracy curve maintained more or less constantly a distance from the train curve up to the last training period. "
      ],
      "metadata": {
        "id": "IZz11ghdCjJS"
      }
    },
    {
      "cell_type": "code",
      "source": [
        "testCNN(MNIST_CNN, MNISTx_test, MNISTy_test)"
      ],
      "metadata": {
        "id": "voIsJWN6cZAY",
        "colab": {
          "base_uri": "https://localhost:8080/"
        },
        "outputId": "60c5b84a-3940-4e92-9c6a-b082410379fd"
      },
      "execution_count": null,
      "outputs": [
        {
          "output_type": "stream",
          "name": "stdout",
          "text": [
            "test loss: 0.13830411434173584\n",
            "test accuracy: 0.9887999892234802\n"
          ]
        }
      ]
    },
    {
      "cell_type": "markdown",
      "source": [
        "Despite an presumed situation of overfitting on the training data, observing the results of `testCNN(MNIST_CNN, MNISTx_test, MNISTy_test)`, the model recorded an excellent accuracy, equal to about $98\\%$.\n",
        "\n",
        "My hypothesis of network overfitting based on the above graphs is probably wrong due to the cutting of the axes, which shows a greater distance between the two curves ($d \\sim 0.01$)."
      ],
      "metadata": {
        "id": "biDQPVUCCxWM"
      }
    },
    {
      "cell_type": "markdown",
      "source": [
        "### CIFAR Network"
      ],
      "metadata": {
        "id": "7HZB46DGvm9O"
      }
    },
    {
      "cell_type": "markdown",
      "source": [
        "As a last step of the exercise I modeled a network for the *CIFAR* dataset whose images, as previously shown, have different dimensions from the *MNIST*.\n",
        "\n",
        "The following output displays the newly defined `CIFAR_CNN` network configuration."
      ],
      "metadata": {
        "id": "9tw5ndjuDg4o"
      }
    },
    {
      "cell_type": "code",
      "source": [
        "CIFAR_CNN = createCNN(CIFARinput_shape, num_classes)"
      ],
      "metadata": {
        "id": "szw3HtDzdy7Z",
        "colab": {
          "base_uri": "https://localhost:8080/"
        },
        "outputId": "ac8dfb23-004c-41b3-8df6-77bc24f607ad"
      },
      "execution_count": null,
      "outputs": [
        {
          "output_type": "stream",
          "name": "stdout",
          "text": [
            "Model: \"sequential\"\n",
            "_________________________________________________________________\n",
            " Layer (type)                Output Shape              Param #   \n",
            "=================================================================\n",
            " conv2d (Conv2D)             (None, 30, 30, 32)        896       \n",
            "                                                                 \n",
            " activation (Activation)     (None, 30, 30, 32)        0         \n",
            "                                                                 \n",
            " max_pooling2d (MaxPooling2D  (None, 15, 15, 32)       0         \n",
            " )                                                               \n",
            "                                                                 \n",
            " flatten (Flatten)           (None, 7200)              0         \n",
            "                                                                 \n",
            " dense (Dense)               (None, 128)               921728    \n",
            "                                                                 \n",
            " activation_1 (Activation)   (None, 128)               0         \n",
            "                                                                 \n",
            " dense_1 (Dense)             (None, 10)                1290      \n",
            "                                                                 \n",
            "=================================================================\n",
            "Total params: 923,914\n",
            "Trainable params: 923,914\n",
            "Non-trainable params: 0\n",
            "_________________________________________________________________\n"
          ]
        }
      ]
    },
    {
      "cell_type": "code",
      "source": [
        "trainCNN(CIFAR_CNN, CIFARx_train, CIFARy_train, 100, 32)"
      ],
      "metadata": {
        "id": "hO3y6TSAfPpf",
        "colab": {
          "base_uri": "https://localhost:8080/",
          "height": 541
        },
        "outputId": "a8ae7f85-5f99-46fd-af01-b27f6e8c2f74"
      },
      "execution_count": null,
      "outputs": [
        {
          "output_type": "display_data",
          "data": {
            "image/png": "[encoded data removed]",
            "text/plain": [
              "<Figure size 432x288 with 1 Axes>"
            ]
          },
          "metadata": {
            "needs_background": "light"
          }
        },
        {
          "output_type": "display_data",
          "data": {
            "image/png": "[encoded data removed]",
            "text/plain": [
              "<Figure size 432x288 with 1 Axes>"
            ]
          },
          "metadata": {
            "needs_background": "light"
          }
        }
      ]
    },
    {
      "cell_type": "markdown",
      "source": [
        "Following the training, through the two images it is possible to observe how much worse the network is for this task than the previous one: the model is much more overfitted on *CIFAR* data.\n",
        "\n",
        "Although the model during the training has obtained about $100\\%$ accuracy, it is observed that the results obtained on the test set are much worse than the previous model as a result of the problem of overfitting. "
      ],
      "metadata": {
        "id": "yqt2jrTyD7Xk"
      }
    },
    {
      "cell_type": "code",
      "source": [
        "testCNN(CIFAR_CNN, CIFARx_test, CIFARy_test)"
      ],
      "metadata": {
        "id": "LJwWAr6ugBWC",
        "colab": {
          "base_uri": "https://localhost:8080/"
        },
        "outputId": "066de588-50a8-4155-f39f-2131d5f4b881"
      },
      "execution_count": null,
      "outputs": [
        {
          "output_type": "stream",
          "name": "stdout",
          "text": [
            "test loss: 5.956062316894531\n",
            "test accuracy: 0.5925999879837036\n"
          ]
        }
      ]
    }
  ]
}
